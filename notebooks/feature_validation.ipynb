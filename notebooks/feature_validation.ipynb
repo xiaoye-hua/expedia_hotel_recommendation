{
 "cells": [
  {
   "cell_type": "markdown",
   "id": "0804f205",
   "metadata": {},
   "source": [
    "# Module "
   ]
  },
  {
   "cell_type": "code",
   "execution_count": 1,
   "id": "622d9628",
   "metadata": {},
   "outputs": [],
   "source": [
    "import pandas as pd"
   ]
  },
  {
   "cell_type": "markdown",
   "id": "e9c80b77",
   "metadata": {},
   "source": [
    "# Config "
   ]
  },
  {
   "cell_type": "code",
   "execution_count": 12,
   "id": "e28689e8",
   "metadata": {},
   "outputs": [],
   "source": [
    "file_name = '../model_finished/offline_features/srch_dest_id_features.csv'\n",
    "prop_feature_name = '../model_finished/offline_features/prop_id_features.csv'"
   ]
  },
  {
   "cell_type": "markdown",
   "id": "f98b2b4e",
   "metadata": {},
   "source": [
    "# srch_destination_feature"
   ]
  },
  {
   "cell_type": "code",
   "execution_count": 8,
   "id": "d1d3cff5",
   "metadata": {},
   "outputs": [],
   "source": [
    "dest_feature = pd.read_csv(file_name)"
   ]
  },
  {
   "cell_type": "code",
   "execution_count": 9,
   "id": "1a875d92",
   "metadata": {},
   "outputs": [
    {
     "name": "stdout",
     "output_type": "stream",
     "text": [
      "<class 'pandas.core.frame.DataFrame'>\n",
      "RangeIndex: 21524 entries, 0 to 21523\n",
      "Data columns (total 76 columns):\n",
      " #   Column                                         Non-Null Count  Dtype  \n",
      "---  ------                                         --------------  -----  \n",
      " 0   srch_destination_id                            21524 non-null  int64  \n",
      " 1   srch_dest_id_size                              21524 non-null  int64  \n",
      " 2   srch_dest_id_mean_visitor_hist_starrating      4967 non-null   float64\n",
      " 3   srch_dest_id_std_visitor_hist_starrating       4967 non-null   float64\n",
      " 4   srch_dest_id_median_visitor_hist_starrating    4967 non-null   float64\n",
      " 5   srch_dest_id_mean_visitor_hist_adr_usd         4991 non-null   float64\n",
      " 6   srch_dest_id_std_visitor_hist_adr_usd          4991 non-null   float64\n",
      " 7   srch_dest_id_median_visitor_hist_adr_usd       4991 non-null   float64\n",
      " 8   srch_dest_id_mean_prop_starrating              21524 non-null  float64\n",
      " 9   srch_dest_id_std_prop_starrating               21524 non-null  float64\n",
      " 10  srch_dest_id_median_prop_starrating            21524 non-null  float64\n",
      " 11  srch_dest_id_mean_prop_review_score            21524 non-null  float64\n",
      " 12  srch_dest_id_std_prop_review_score             21523 non-null  float64\n",
      " 13  srch_dest_id_median_prop_review_score          21524 non-null  float64\n",
      " 14  srch_dest_id_mean_prop_location_score1         21524 non-null  float64\n",
      " 15  srch_dest_id_std_prop_location_score1          21524 non-null  float64\n",
      " 16  srch_dest_id_median_prop_location_score1       21524 non-null  float64\n",
      " 17  srch_dest_id_mean_prop_location_score2         18195 non-null  float64\n",
      " 18  srch_dest_id_std_prop_location_score2          16188 non-null  float64\n",
      " 19  srch_dest_id_median_prop_location_score2       18195 non-null  float64\n",
      " 20  srch_dest_id_mean_prop_log_historical_price    21524 non-null  float64\n",
      " 21  srch_dest_id_std_prop_log_historical_price     21524 non-null  float64\n",
      " 22  srch_dest_id_median_prop_log_historical_price  21524 non-null  float64\n",
      " 23  srch_dest_id_mean_price_usd                    21524 non-null  float64\n",
      " 24  srch_dest_id_std_price_usd                     21524 non-null  float64\n",
      " 25  srch_dest_id_median_price_usd                  21524 non-null  float64\n",
      " 26  srch_dest_id_mean_srch_length_of_stay          21524 non-null  float64\n",
      " 27  srch_dest_id_std_srch_length_of_stay           21524 non-null  float64\n",
      " 28  srch_dest_id_median_srch_length_of_stay        21524 non-null  float64\n",
      " 29  srch_dest_id_mean_srch_booking_window          21524 non-null  float64\n",
      " 30  srch_dest_id_std_srch_booking_window           21524 non-null  float64\n",
      " 31  srch_dest_id_median_srch_booking_window        21524 non-null  float64\n",
      " 32  srch_dest_id_mean_srch_adults_count            21524 non-null  float64\n",
      " 33  srch_dest_id_std_srch_adults_count             21524 non-null  float64\n",
      " 34  srch_dest_id_median_srch_adults_count          21524 non-null  float64\n",
      " 35  srch_dest_id_mean_srch_children_count          21524 non-null  float64\n",
      " 36  srch_dest_id_std_srch_children_count           21524 non-null  float64\n",
      " 37  srch_dest_id_median_srch_children_count        21524 non-null  float64\n",
      " 38  srch_dest_id_mean_srch_room_count              21524 non-null  float64\n",
      " 39  srch_dest_id_std_srch_room_count               21524 non-null  float64\n",
      " 40  srch_dest_id_median_srch_room_count            21524 non-null  float64\n",
      " 41  srch_dest_id_mean_srch_query_affinity_score    6329 non-null   float64\n",
      " 42  srch_dest_id_std_srch_query_affinity_score     6301 non-null   float64\n",
      " 43  srch_dest_id_median_srch_query_affinity_score  6329 non-null   float64\n",
      " 44  srch_dest_id_mean_orig_destination_distance    16649 non-null  float64\n",
      " 45  srch_dest_id_std_orig_destination_distance     16649 non-null  float64\n",
      " 46  srch_dest_id_median_orig_destination_distance  16649 non-null  float64\n",
      " 47  srch_dest_id_mean_comp1_rate_percent_diff      491 non-null    float64\n",
      " 48  srch_dest_id_std_comp1_rate_percent_diff       471 non-null    float64\n",
      " 49  srch_dest_id_median_comp1_rate_percent_diff    491 non-null    float64\n",
      " 50  srch_dest_id_mean_comp2_rate_percent_diff      10789 non-null  float64\n",
      " 51  srch_dest_id_std_comp2_rate_percent_diff       9791 non-null   float64\n",
      " 52  srch_dest_id_median_comp2_rate_percent_diff    10789 non-null  float64\n",
      " 53  srch_dest_id_mean_comp3_rate_percent_diff      9420 non-null   float64\n",
      " 54  srch_dest_id_std_comp3_rate_percent_diff       8494 non-null   float64\n",
      " 55  srch_dest_id_median_comp3_rate_percent_diff    9420 non-null   float64\n",
      " 56  srch_dest_id_mean_comp4_rate_percent_diff      2181 non-null   float64\n",
      " 57  srch_dest_id_std_comp4_rate_percent_diff       1926 non-null   float64\n",
      " 58  srch_dest_id_median_comp4_rate_percent_diff    2181 non-null   float64\n",
      " 59  srch_dest_id_mean_comp5_rate_percent_diff      14393 non-null  float64\n",
      " 60  srch_dest_id_std_comp5_rate_percent_diff       13212 non-null  float64\n",
      " 61  srch_dest_id_median_comp5_rate_percent_diff    14393 non-null  float64\n",
      " 62  srch_dest_id_mean_comp6_rate_percent_diff      3307 non-null   float64\n",
      " 63  srch_dest_id_std_comp6_rate_percent_diff       2843 non-null   float64\n",
      " 64  srch_dest_id_median_comp6_rate_percent_diff    3307 non-null   float64\n",
      " 65  srch_dest_id_mean_comp7_rate_percent_diff      4124 non-null   float64\n",
      " 66  srch_dest_id_std_comp7_rate_percent_diff       3566 non-null   float64\n",
      " 67  srch_dest_id_median_comp7_rate_percent_diff    4124 non-null   float64\n",
      " 68  srch_dest_id_mean_comp8_rate_percent_diff      9612 non-null   float64\n",
      " 69  srch_dest_id_std_comp8_rate_percent_diff       8901 non-null   float64\n",
      " 70  srch_dest_id_median_comp8_rate_percent_diff    9612 non-null   float64\n",
      " 71  srch_dest_id_click_cnt                         8659 non-null   float64\n",
      " 72  srch_dest_id_booking_cnt                       8659 non-null   float64\n",
      " 73  srch_dest_id_total_cnt                         8659 non-null   float64\n",
      " 74  srch_dest_id_all_ctr                           21524 non-null  float64\n",
      " 75  srch_dest_id_all_ctcvr                         21524 non-null  float64\n",
      "dtypes: float64(74), int64(2)\n",
      "memory usage: 12.5 MB\n"
     ]
    }
   ],
   "source": [
    "dest_feature.info()"
   ]
  },
  {
   "cell_type": "code",
   "execution_count": 10,
   "id": "82aa9660",
   "metadata": {},
   "outputs": [
    {
     "data": {
      "text/plain": [
       "Index(['srch_destination_id', 'srch_dest_id_size',\n",
       "       'srch_dest_id_mean_visitor_hist_starrating',\n",
       "       'srch_dest_id_std_visitor_hist_starrating',\n",
       "       'srch_dest_id_median_visitor_hist_starrating',\n",
       "       'srch_dest_id_mean_visitor_hist_adr_usd',\n",
       "       'srch_dest_id_std_visitor_hist_adr_usd',\n",
       "       'srch_dest_id_median_visitor_hist_adr_usd',\n",
       "       'srch_dest_id_mean_prop_starrating', 'srch_dest_id_std_prop_starrating',\n",
       "       'srch_dest_id_median_prop_starrating',\n",
       "       'srch_dest_id_mean_prop_review_score',\n",
       "       'srch_dest_id_std_prop_review_score',\n",
       "       'srch_dest_id_median_prop_review_score',\n",
       "       'srch_dest_id_mean_prop_location_score1',\n",
       "       'srch_dest_id_std_prop_location_score1',\n",
       "       'srch_dest_id_median_prop_location_score1',\n",
       "       'srch_dest_id_mean_prop_location_score2',\n",
       "       'srch_dest_id_std_prop_location_score2',\n",
       "       'srch_dest_id_median_prop_location_score2',\n",
       "       'srch_dest_id_mean_prop_log_historical_price',\n",
       "       'srch_dest_id_std_prop_log_historical_price',\n",
       "       'srch_dest_id_median_prop_log_historical_price',\n",
       "       'srch_dest_id_mean_price_usd', 'srch_dest_id_std_price_usd',\n",
       "       'srch_dest_id_median_price_usd',\n",
       "       'srch_dest_id_mean_srch_length_of_stay',\n",
       "       'srch_dest_id_std_srch_length_of_stay',\n",
       "       'srch_dest_id_median_srch_length_of_stay',\n",
       "       'srch_dest_id_mean_srch_booking_window',\n",
       "       'srch_dest_id_std_srch_booking_window',\n",
       "       'srch_dest_id_median_srch_booking_window',\n",
       "       'srch_dest_id_mean_srch_adults_count',\n",
       "       'srch_dest_id_std_srch_adults_count',\n",
       "       'srch_dest_id_median_srch_adults_count',\n",
       "       'srch_dest_id_mean_srch_children_count',\n",
       "       'srch_dest_id_std_srch_children_count',\n",
       "       'srch_dest_id_median_srch_children_count',\n",
       "       'srch_dest_id_mean_srch_room_count', 'srch_dest_id_std_srch_room_count',\n",
       "       'srch_dest_id_median_srch_room_count',\n",
       "       'srch_dest_id_mean_srch_query_affinity_score',\n",
       "       'srch_dest_id_std_srch_query_affinity_score',\n",
       "       'srch_dest_id_median_srch_query_affinity_score',\n",
       "       'srch_dest_id_mean_orig_destination_distance',\n",
       "       'srch_dest_id_std_orig_destination_distance',\n",
       "       'srch_dest_id_median_orig_destination_distance',\n",
       "       'srch_dest_id_mean_comp1_rate_percent_diff',\n",
       "       'srch_dest_id_std_comp1_rate_percent_diff',\n",
       "       'srch_dest_id_median_comp1_rate_percent_diff',\n",
       "       'srch_dest_id_mean_comp2_rate_percent_diff',\n",
       "       'srch_dest_id_std_comp2_rate_percent_diff',\n",
       "       'srch_dest_id_median_comp2_rate_percent_diff',\n",
       "       'srch_dest_id_mean_comp3_rate_percent_diff',\n",
       "       'srch_dest_id_std_comp3_rate_percent_diff',\n",
       "       'srch_dest_id_median_comp3_rate_percent_diff',\n",
       "       'srch_dest_id_mean_comp4_rate_percent_diff',\n",
       "       'srch_dest_id_std_comp4_rate_percent_diff',\n",
       "       'srch_dest_id_median_comp4_rate_percent_diff',\n",
       "       'srch_dest_id_mean_comp5_rate_percent_diff',\n",
       "       'srch_dest_id_std_comp5_rate_percent_diff',\n",
       "       'srch_dest_id_median_comp5_rate_percent_diff',\n",
       "       'srch_dest_id_mean_comp6_rate_percent_diff',\n",
       "       'srch_dest_id_std_comp6_rate_percent_diff',\n",
       "       'srch_dest_id_median_comp6_rate_percent_diff',\n",
       "       'srch_dest_id_mean_comp7_rate_percent_diff',\n",
       "       'srch_dest_id_std_comp7_rate_percent_diff',\n",
       "       'srch_dest_id_median_comp7_rate_percent_diff',\n",
       "       'srch_dest_id_mean_comp8_rate_percent_diff',\n",
       "       'srch_dest_id_std_comp8_rate_percent_diff',\n",
       "       'srch_dest_id_median_comp8_rate_percent_diff', 'srch_dest_id_click_cnt',\n",
       "       'srch_dest_id_booking_cnt', 'srch_dest_id_total_cnt',\n",
       "       'srch_dest_id_all_ctr', 'srch_dest_id_all_ctcvr'],\n",
       "      dtype='object')"
      ]
     },
     "execution_count": 10,
     "metadata": {},
     "output_type": "execute_result"
    }
   ],
   "source": [
    "dest_feature.columns"
   ]
  },
  {
   "cell_type": "code",
   "execution_count": 11,
   "id": "7e6a4739",
   "metadata": {},
   "outputs": [
    {
     "data": {
      "text/html": [
       "<div>\n",
       "<style scoped>\n",
       "    .dataframe tbody tr th:only-of-type {\n",
       "        vertical-align: middle;\n",
       "    }\n",
       "\n",
       "    .dataframe tbody tr th {\n",
       "        vertical-align: top;\n",
       "    }\n",
       "\n",
       "    .dataframe thead th {\n",
       "        text-align: right;\n",
       "    }\n",
       "</style>\n",
       "<table border=\"1\" class=\"dataframe\">\n",
       "  <thead>\n",
       "    <tr style=\"text-align: right;\">\n",
       "      <th></th>\n",
       "      <th>srch_dest_id_click_cnt</th>\n",
       "      <th>srch_dest_id_booking_cnt</th>\n",
       "      <th>srch_dest_id_total_cnt</th>\n",
       "      <th>srch_dest_id_all_ctr</th>\n",
       "      <th>srch_dest_id_all_ctcvr</th>\n",
       "    </tr>\n",
       "  </thead>\n",
       "  <tbody>\n",
       "    <tr>\n",
       "      <th>0</th>\n",
       "      <td>NaN</td>\n",
       "      <td>NaN</td>\n",
       "      <td>NaN</td>\n",
       "      <td>0.044744</td>\n",
       "      <td>0.027928</td>\n",
       "    </tr>\n",
       "    <tr>\n",
       "      <th>1</th>\n",
       "      <td>NaN</td>\n",
       "      <td>NaN</td>\n",
       "      <td>NaN</td>\n",
       "      <td>0.044744</td>\n",
       "      <td>0.027928</td>\n",
       "    </tr>\n",
       "    <tr>\n",
       "      <th>2</th>\n",
       "      <td>NaN</td>\n",
       "      <td>NaN</td>\n",
       "      <td>NaN</td>\n",
       "      <td>0.044744</td>\n",
       "      <td>0.027928</td>\n",
       "    </tr>\n",
       "    <tr>\n",
       "      <th>3</th>\n",
       "      <td>NaN</td>\n",
       "      <td>NaN</td>\n",
       "      <td>NaN</td>\n",
       "      <td>0.044744</td>\n",
       "      <td>0.027928</td>\n",
       "    </tr>\n",
       "    <tr>\n",
       "      <th>4</th>\n",
       "      <td>NaN</td>\n",
       "      <td>NaN</td>\n",
       "      <td>NaN</td>\n",
       "      <td>0.044744</td>\n",
       "      <td>0.027928</td>\n",
       "    </tr>\n",
       "  </tbody>\n",
       "</table>\n",
       "</div>"
      ],
      "text/plain": [
       "   srch_dest_id_click_cnt  srch_dest_id_booking_cnt  srch_dest_id_total_cnt  \\\n",
       "0                     NaN                       NaN                     NaN   \n",
       "1                     NaN                       NaN                     NaN   \n",
       "2                     NaN                       NaN                     NaN   \n",
       "3                     NaN                       NaN                     NaN   \n",
       "4                     NaN                       NaN                     NaN   \n",
       "\n",
       "   srch_dest_id_all_ctr  srch_dest_id_all_ctcvr  \n",
       "0              0.044744                0.027928  \n",
       "1              0.044744                0.027928  \n",
       "2              0.044744                0.027928  \n",
       "3              0.044744                0.027928  \n",
       "4              0.044744                0.027928  "
      ]
     },
     "execution_count": 11,
     "metadata": {},
     "output_type": "execute_result"
    }
   ],
   "source": [
    "dest_feature[['srch_dest_id_click_cnt',\n",
    "       'srch_dest_id_booking_cnt', 'srch_dest_id_total_cnt',\n",
    "       'srch_dest_id_all_ctr', 'srch_dest_id_all_ctcvr']].head()"
   ]
  },
  {
   "cell_type": "markdown",
   "id": "bb4efab8",
   "metadata": {},
   "source": [
    "# prop features"
   ]
  },
  {
   "cell_type": "code",
   "execution_count": 13,
   "id": "19d9e670",
   "metadata": {},
   "outputs": [],
   "source": [
    "prop_feature = pd.read_csv(prop_feature_name)"
   ]
  },
  {
   "cell_type": "code",
   "execution_count": 14,
   "id": "91eedb88",
   "metadata": {},
   "outputs": [
    {
     "name": "stdout",
     "output_type": "stream",
     "text": [
      "<class 'pandas.core.frame.DataFrame'>\n",
      "RangeIndex: 134394 entries, 0 to 134393\n",
      "Data columns (total 76 columns):\n",
      " #   Column                                    Non-Null Count   Dtype  \n",
      "---  ------                                    --------------   -----  \n",
      " 0   prop_id                                   134394 non-null  int64  \n",
      " 1   prop_id_size                              134394 non-null  int64  \n",
      " 2   prop_id_mean_visitor_hist_starrating      79695 non-null   float64\n",
      " 3   prop_id_std_visitor_hist_starrating       54705 non-null   float64\n",
      " 4   prop_id_median_visitor_hist_starrating    79695 non-null   float64\n",
      " 5   prop_id_mean_visitor_hist_adr_usd         79952 non-null   float64\n",
      " 6   prop_id_std_visitor_hist_adr_usd          54899 non-null   float64\n",
      " 7   prop_id_median_visitor_hist_adr_usd       79952 non-null   float64\n",
      " 8   prop_id_mean_prop_starrating              134394 non-null  float64\n",
      " 9   prop_id_std_prop_starrating               123901 non-null  float64\n",
      " 10  prop_id_median_prop_starrating            134394 non-null  float64\n",
      " 11  prop_id_mean_prop_review_score            132499 non-null  float64\n",
      " 12  prop_id_std_prop_review_score             122570 non-null  float64\n",
      " 13  prop_id_median_prop_review_score          132499 non-null  float64\n",
      " 14  prop_id_mean_prop_location_score1         134394 non-null  float64\n",
      " 15  prop_id_std_prop_location_score1          123901 non-null  float64\n",
      " 16  prop_id_median_prop_location_score1       134394 non-null  float64\n",
      " 17  prop_id_mean_prop_location_score2         102599 non-null  float64\n",
      " 18  prop_id_std_prop_location_score2          94957 non-null   float64\n",
      " 19  prop_id_median_prop_location_score2       102599 non-null  float64\n",
      " 20  prop_id_mean_prop_log_historical_price    134394 non-null  float64\n",
      " 21  prop_id_std_prop_log_historical_price     123901 non-null  float64\n",
      " 22  prop_id_median_prop_log_historical_price  134394 non-null  float64\n",
      " 23  prop_id_mean_price_usd                    134394 non-null  float64\n",
      " 24  prop_id_std_price_usd                     123901 non-null  float64\n",
      " 25  prop_id_median_price_usd                  134394 non-null  float64\n",
      " 26  prop_id_mean_srch_length_of_stay          134394 non-null  float64\n",
      " 27  prop_id_std_srch_length_of_stay           123901 non-null  float64\n",
      " 28  prop_id_median_srch_length_of_stay        134394 non-null  float64\n",
      " 29  prop_id_mean_srch_booking_window          134394 non-null  float64\n",
      " 30  prop_id_std_srch_booking_window           123901 non-null  float64\n",
      " 31  prop_id_median_srch_booking_window        134394 non-null  float64\n",
      " 32  prop_id_mean_srch_adults_count            134394 non-null  float64\n",
      " 33  prop_id_std_srch_adults_count             123901 non-null  float64\n",
      " 34  prop_id_median_srch_adults_count          134394 non-null  float64\n",
      " 35  prop_id_mean_srch_children_count          134394 non-null  float64\n",
      " 36  prop_id_std_srch_children_count           123901 non-null  float64\n",
      " 37  prop_id_median_srch_children_count        134394 non-null  float64\n",
      " 38  prop_id_mean_srch_room_count              134394 non-null  float64\n",
      " 39  prop_id_std_srch_room_count               123901 non-null  float64\n",
      " 40  prop_id_median_srch_room_count            134394 non-null  float64\n",
      " 41  prop_id_mean_srch_query_affinity_score    59021 non-null   float64\n",
      " 42  prop_id_std_srch_query_affinity_score     45256 non-null   float64\n",
      " 43  prop_id_median_srch_query_affinity_score  59021 non-null   float64\n",
      " 44  prop_id_mean_orig_destination_distance    119731 non-null  float64\n",
      " 45  prop_id_std_orig_destination_distance     103691 non-null  float64\n",
      " 46  prop_id_median_orig_destination_distance  119731 non-null  float64\n",
      " 47  prop_id_mean_comp1_rate_percent_diff      4302 non-null    float64\n",
      " 48  prop_id_std_comp1_rate_percent_diff       3855 non-null    float64\n",
      " 49  prop_id_median_comp1_rate_percent_diff    4302 non-null    float64\n",
      " 50  prop_id_mean_comp2_rate_percent_diff      28268 non-null   float64\n",
      " 51  prop_id_std_comp2_rate_percent_diff       24749 non-null   float64\n",
      " 52  prop_id_median_comp2_rate_percent_diff    28268 non-null   float64\n",
      " 53  prop_id_mean_comp3_rate_percent_diff      28632 non-null   float64\n",
      " 54  prop_id_std_comp3_rate_percent_diff       24706 non-null   float64\n",
      " 55  prop_id_median_comp3_rate_percent_diff    28632 non-null   float64\n",
      " 56  prop_id_mean_comp4_rate_percent_diff      11382 non-null   float64\n",
      " 57  prop_id_std_comp4_rate_percent_diff       9498 non-null    float64\n",
      " 58  prop_id_median_comp4_rate_percent_diff    11382 non-null   float64\n",
      " 59  prop_id_mean_comp5_rate_percent_diff      56492 non-null   float64\n",
      " 60  prop_id_std_comp5_rate_percent_diff       45092 non-null   float64\n",
      " 61  prop_id_median_comp5_rate_percent_diff    56492 non-null   float64\n",
      " 62  prop_id_mean_comp6_rate_percent_diff      13078 non-null   float64\n",
      " 63  prop_id_std_comp6_rate_percent_diff       9959 non-null    float64\n",
      " 64  prop_id_median_comp6_rate_percent_diff    13078 non-null   float64\n",
      " 65  prop_id_mean_comp7_rate_percent_diff      16224 non-null   float64\n",
      " 66  prop_id_std_comp7_rate_percent_diff       12631 non-null   float64\n",
      " 67  prop_id_median_comp7_rate_percent_diff    16224 non-null   float64\n",
      " 68  prop_id_mean_comp8_rate_percent_diff      32581 non-null   float64\n",
      " 69  prop_id_std_comp8_rate_percent_diff       28265 non-null   float64\n",
      " 70  prop_id_median_comp8_rate_percent_diff    32581 non-null   float64\n",
      " 71  prop_id_click_cnt                         100074 non-null  float64\n",
      " 72  prop_id_booking_cnt                       100074 non-null  float64\n",
      " 73  prop_id_total_cnt                         100074 non-null  float64\n",
      " 74  prop_id_all_ctr                           134394 non-null  float64\n",
      " 75  prop_id_all_ctcvr                         134394 non-null  float64\n",
      "dtypes: float64(74), int64(2)\n",
      "memory usage: 77.9 MB\n"
     ]
    }
   ],
   "source": [
    "prop_feature.info()"
   ]
  },
  {
   "cell_type": "code",
   "execution_count": 16,
   "id": "35e771c7",
   "metadata": {},
   "outputs": [
    {
     "data": {
      "text/plain": [
       "Index(['prop_id', 'prop_id_size', 'prop_id_mean_visitor_hist_starrating',\n",
       "       'prop_id_std_visitor_hist_starrating',\n",
       "       'prop_id_median_visitor_hist_starrating',\n",
       "       'prop_id_mean_visitor_hist_adr_usd', 'prop_id_std_visitor_hist_adr_usd',\n",
       "       'prop_id_median_visitor_hist_adr_usd', 'prop_id_mean_prop_starrating',\n",
       "       'prop_id_std_prop_starrating', 'prop_id_median_prop_starrating',\n",
       "       'prop_id_mean_prop_review_score', 'prop_id_std_prop_review_score',\n",
       "       'prop_id_median_prop_review_score', 'prop_id_mean_prop_location_score1',\n",
       "       'prop_id_std_prop_location_score1',\n",
       "       'prop_id_median_prop_location_score1',\n",
       "       'prop_id_mean_prop_location_score2', 'prop_id_std_prop_location_score2',\n",
       "       'prop_id_median_prop_location_score2',\n",
       "       'prop_id_mean_prop_log_historical_price',\n",
       "       'prop_id_std_prop_log_historical_price',\n",
       "       'prop_id_median_prop_log_historical_price', 'prop_id_mean_price_usd',\n",
       "       'prop_id_std_price_usd', 'prop_id_median_price_usd',\n",
       "       'prop_id_mean_srch_length_of_stay', 'prop_id_std_srch_length_of_stay',\n",
       "       'prop_id_median_srch_length_of_stay',\n",
       "       'prop_id_mean_srch_booking_window', 'prop_id_std_srch_booking_window',\n",
       "       'prop_id_median_srch_booking_window', 'prop_id_mean_srch_adults_count',\n",
       "       'prop_id_std_srch_adults_count', 'prop_id_median_srch_adults_count',\n",
       "       'prop_id_mean_srch_children_count', 'prop_id_std_srch_children_count',\n",
       "       'prop_id_median_srch_children_count', 'prop_id_mean_srch_room_count',\n",
       "       'prop_id_std_srch_room_count', 'prop_id_median_srch_room_count',\n",
       "       'prop_id_mean_srch_query_affinity_score',\n",
       "       'prop_id_std_srch_query_affinity_score',\n",
       "       'prop_id_median_srch_query_affinity_score',\n",
       "       'prop_id_mean_orig_destination_distance',\n",
       "       'prop_id_std_orig_destination_distance',\n",
       "       'prop_id_median_orig_destination_distance',\n",
       "       'prop_id_mean_comp1_rate_percent_diff',\n",
       "       'prop_id_std_comp1_rate_percent_diff',\n",
       "       'prop_id_median_comp1_rate_percent_diff',\n",
       "       'prop_id_mean_comp2_rate_percent_diff',\n",
       "       'prop_id_std_comp2_rate_percent_diff',\n",
       "       'prop_id_median_comp2_rate_percent_diff',\n",
       "       'prop_id_mean_comp3_rate_percent_diff',\n",
       "       'prop_id_std_comp3_rate_percent_diff',\n",
       "       'prop_id_median_comp3_rate_percent_diff',\n",
       "       'prop_id_mean_comp4_rate_percent_diff',\n",
       "       'prop_id_std_comp4_rate_percent_diff',\n",
       "       'prop_id_median_comp4_rate_percent_diff',\n",
       "       'prop_id_mean_comp5_rate_percent_diff',\n",
       "       'prop_id_std_comp5_rate_percent_diff',\n",
       "       'prop_id_median_comp5_rate_percent_diff',\n",
       "       'prop_id_mean_comp6_rate_percent_diff',\n",
       "       'prop_id_std_comp6_rate_percent_diff',\n",
       "       'prop_id_median_comp6_rate_percent_diff',\n",
       "       'prop_id_mean_comp7_rate_percent_diff',\n",
       "       'prop_id_std_comp7_rate_percent_diff',\n",
       "       'prop_id_median_comp7_rate_percent_diff',\n",
       "       'prop_id_mean_comp8_rate_percent_diff',\n",
       "       'prop_id_std_comp8_rate_percent_diff',\n",
       "       'prop_id_median_comp8_rate_percent_diff', 'prop_id_click_cnt',\n",
       "       'prop_id_booking_cnt', 'prop_id_total_cnt', 'prop_id_all_ctr',\n",
       "       'prop_id_all_ctcvr'],\n",
       "      dtype='object')"
      ]
     },
     "execution_count": 16,
     "metadata": {},
     "output_type": "execute_result"
    }
   ],
   "source": [
    "prop_feature.columns"
   ]
  },
  {
   "cell_type": "code",
   "execution_count": 17,
   "id": "db17c16e",
   "metadata": {},
   "outputs": [
    {
     "data": {
      "text/html": [
       "<div>\n",
       "<style scoped>\n",
       "    .dataframe tbody tr th:only-of-type {\n",
       "        vertical-align: middle;\n",
       "    }\n",
       "\n",
       "    .dataframe tbody tr th {\n",
       "        vertical-align: top;\n",
       "    }\n",
       "\n",
       "    .dataframe thead th {\n",
       "        text-align: right;\n",
       "    }\n",
       "</style>\n",
       "<table border=\"1\" class=\"dataframe\">\n",
       "  <thead>\n",
       "    <tr style=\"text-align: right;\">\n",
       "      <th></th>\n",
       "      <th>prop_id_click_cnt</th>\n",
       "      <th>prop_id_booking_cnt</th>\n",
       "      <th>prop_id_total_cnt</th>\n",
       "      <th>prop_id_all_ctr</th>\n",
       "      <th>prop_id_all_ctcvr</th>\n",
       "    </tr>\n",
       "  </thead>\n",
       "  <tbody>\n",
       "    <tr>\n",
       "      <th>0</th>\n",
       "      <td>0.0</td>\n",
       "      <td>0.0</td>\n",
       "      <td>11.0</td>\n",
       "      <td>0.044744</td>\n",
       "      <td>0.027928</td>\n",
       "    </tr>\n",
       "    <tr>\n",
       "      <th>1</th>\n",
       "      <td>0.0</td>\n",
       "      <td>0.0</td>\n",
       "      <td>1.0</td>\n",
       "      <td>0.044744</td>\n",
       "      <td>0.027928</td>\n",
       "    </tr>\n",
       "    <tr>\n",
       "      <th>2</th>\n",
       "      <td>0.0</td>\n",
       "      <td>0.0</td>\n",
       "      <td>19.0</td>\n",
       "      <td>0.044744</td>\n",
       "      <td>0.027928</td>\n",
       "    </tr>\n",
       "    <tr>\n",
       "      <th>3</th>\n",
       "      <td>0.0</td>\n",
       "      <td>0.0</td>\n",
       "      <td>6.0</td>\n",
       "      <td>0.044744</td>\n",
       "      <td>0.027928</td>\n",
       "    </tr>\n",
       "    <tr>\n",
       "      <th>4</th>\n",
       "      <td>0.0</td>\n",
       "      <td>0.0</td>\n",
       "      <td>6.0</td>\n",
       "      <td>0.044744</td>\n",
       "      <td>0.027928</td>\n",
       "    </tr>\n",
       "    <tr>\n",
       "      <th>...</th>\n",
       "      <td>...</td>\n",
       "      <td>...</td>\n",
       "      <td>...</td>\n",
       "      <td>...</td>\n",
       "      <td>...</td>\n",
       "    </tr>\n",
       "    <tr>\n",
       "      <th>134389</th>\n",
       "      <td>NaN</td>\n",
       "      <td>NaN</td>\n",
       "      <td>NaN</td>\n",
       "      <td>0.044744</td>\n",
       "      <td>0.027928</td>\n",
       "    </tr>\n",
       "    <tr>\n",
       "      <th>134390</th>\n",
       "      <td>0.0</td>\n",
       "      <td>0.0</td>\n",
       "      <td>1.0</td>\n",
       "      <td>0.044744</td>\n",
       "      <td>0.027928</td>\n",
       "    </tr>\n",
       "    <tr>\n",
       "      <th>134391</th>\n",
       "      <td>NaN</td>\n",
       "      <td>NaN</td>\n",
       "      <td>NaN</td>\n",
       "      <td>0.044744</td>\n",
       "      <td>0.027928</td>\n",
       "    </tr>\n",
       "    <tr>\n",
       "      <th>134392</th>\n",
       "      <td>0.0</td>\n",
       "      <td>0.0</td>\n",
       "      <td>2.0</td>\n",
       "      <td>0.044744</td>\n",
       "      <td>0.027928</td>\n",
       "    </tr>\n",
       "    <tr>\n",
       "      <th>134393</th>\n",
       "      <td>0.0</td>\n",
       "      <td>0.0</td>\n",
       "      <td>1.0</td>\n",
       "      <td>0.044744</td>\n",
       "      <td>0.027928</td>\n",
       "    </tr>\n",
       "  </tbody>\n",
       "</table>\n",
       "<p>134394 rows × 5 columns</p>\n",
       "</div>"
      ],
      "text/plain": [
       "        prop_id_click_cnt  prop_id_booking_cnt  prop_id_total_cnt  \\\n",
       "0                     0.0                  0.0               11.0   \n",
       "1                     0.0                  0.0                1.0   \n",
       "2                     0.0                  0.0               19.0   \n",
       "3                     0.0                  0.0                6.0   \n",
       "4                     0.0                  0.0                6.0   \n",
       "...                   ...                  ...                ...   \n",
       "134389                NaN                  NaN                NaN   \n",
       "134390                0.0                  0.0                1.0   \n",
       "134391                NaN                  NaN                NaN   \n",
       "134392                0.0                  0.0                2.0   \n",
       "134393                0.0                  0.0                1.0   \n",
       "\n",
       "        prop_id_all_ctr  prop_id_all_ctcvr  \n",
       "0              0.044744           0.027928  \n",
       "1              0.044744           0.027928  \n",
       "2              0.044744           0.027928  \n",
       "3              0.044744           0.027928  \n",
       "4              0.044744           0.027928  \n",
       "...                 ...                ...  \n",
       "134389         0.044744           0.027928  \n",
       "134390         0.044744           0.027928  \n",
       "134391         0.044744           0.027928  \n",
       "134392         0.044744           0.027928  \n",
       "134393         0.044744           0.027928  \n",
       "\n",
       "[134394 rows x 5 columns]"
      ]
     },
     "execution_count": 17,
     "metadata": {},
     "output_type": "execute_result"
    }
   ],
   "source": [
    "prop_feature[['prop_id_click_cnt',\n",
    "       'prop_id_booking_cnt', 'prop_id_total_cnt', 'prop_id_all_ctr',\n",
    "       'prop_id_all_ctcvr']]"
   ]
  },
  {
   "cell_type": "code",
   "execution_count": 5,
   "id": "d1afa6dd",
   "metadata": {},
   "outputs": [],
   "source": [
    "import sklearn\n",
    "import pandas as pd\n",
    "from recommenders.evaluation.python_evaluation import ndcg_at_k\n",
    "# recommenders.evaluation.python_evaluation.ndcg_at_k(rating_true, rating_pred,\n",
    "#                                     col_user='userID', col_item='itemID',\n",
    "#                                                     col_rating='rating',\n",
    "# col_prediction='prediction', relevancy_method='top_k', k=10, threshold=10)[source]\n"
   ]
  },
  {
   "cell_type": "code",
   "execution_count": 35,
   "id": "6d901670",
   "metadata": {},
   "outputs": [
    {
     "data": {
      "text/plain": [
       "0.6956940443813076"
      ]
     },
     "execution_count": 35,
     "metadata": {},
     "output_type": "execute_result"
    }
   ],
   "source": [
    "import numpy as np\n",
    "from sklearn.metrics import ndcg_score\n",
    "# we have groud-truth relevance of some answers to a query:\n",
    "true_relevance = np.asarray([[10, 0, 0, 1, 5]])\n",
    "# we predict some scores (relevance) for the answers\n",
    "scores = np.asarray([[.1, .2, .3, 4, 70]])\n",
    "ndcg_score(true_relevance, scores)"
   ]
  },
  {
   "cell_type": "code",
   "execution_count": 36,
   "id": "7a4565d6",
   "metadata": {},
   "outputs": [],
   "source": [
    "df = pd.DataFrame({\n",
    "    'user_id': [1] * len(true_relevance[0])\n",
    "    , 'item_id': range(len(true_relevance[0]))\n",
    "    , 'prediction': scores[0]\n",
    "})"
   ]
  },
  {
   "cell_type": "code",
   "execution_count": 37,
   "id": "3b0b0860",
   "metadata": {},
   "outputs": [],
   "source": [
    "original = pd.DataFrame({\n",
    "    'user_id': [1] * len(true_relevance[0])\n",
    "    , 'item_id': range(len(true_relevance[0]))\n",
    "    , 'rating': true_relevance[0]\n",
    "})"
   ]
  },
  {
   "cell_type": "code",
   "execution_count": 47,
   "id": "5e8acc48",
   "metadata": {},
   "outputs": [
    {
     "data": {
      "text/plain": [
       "1.0"
      ]
     },
     "execution_count": 47,
     "metadata": {},
     "output_type": "execute_result"
    }
   ],
   "source": [
    "ndcg_at_k(rating_true=original, rating_pred=df, col_user='user_id', col_item='item_id', \n",
    "          col_rating='rating', col_prediction='prediction', k=1)"
   ]
  },
  {
   "cell_type": "code",
   "execution_count": 39,
   "id": "37f1959d",
   "metadata": {},
   "outputs": [
    {
     "data": {
      "text/html": [
       "<div>\n",
       "<style scoped>\n",
       "    .dataframe tbody tr th:only-of-type {\n",
       "        vertical-align: middle;\n",
       "    }\n",
       "\n",
       "    .dataframe tbody tr th {\n",
       "        vertical-align: top;\n",
       "    }\n",
       "\n",
       "    .dataframe thead th {\n",
       "        text-align: right;\n",
       "    }\n",
       "</style>\n",
       "<table border=\"1\" class=\"dataframe\">\n",
       "  <thead>\n",
       "    <tr style=\"text-align: right;\">\n",
       "      <th></th>\n",
       "      <th>user_id</th>\n",
       "      <th>item_id</th>\n",
       "      <th>rating</th>\n",
       "    </tr>\n",
       "  </thead>\n",
       "  <tbody>\n",
       "    <tr>\n",
       "      <th>0</th>\n",
       "      <td>1</td>\n",
       "      <td>0</td>\n",
       "      <td>10</td>\n",
       "    </tr>\n",
       "    <tr>\n",
       "      <th>1</th>\n",
       "      <td>1</td>\n",
       "      <td>1</td>\n",
       "      <td>0</td>\n",
       "    </tr>\n",
       "    <tr>\n",
       "      <th>2</th>\n",
       "      <td>1</td>\n",
       "      <td>2</td>\n",
       "      <td>0</td>\n",
       "    </tr>\n",
       "    <tr>\n",
       "      <th>3</th>\n",
       "      <td>1</td>\n",
       "      <td>3</td>\n",
       "      <td>1</td>\n",
       "    </tr>\n",
       "    <tr>\n",
       "      <th>4</th>\n",
       "      <td>1</td>\n",
       "      <td>4</td>\n",
       "      <td>5</td>\n",
       "    </tr>\n",
       "  </tbody>\n",
       "</table>\n",
       "</div>"
      ],
      "text/plain": [
       "   user_id  item_id  rating\n",
       "0        1        0      10\n",
       "1        1        1       0\n",
       "2        1        2       0\n",
       "3        1        3       1\n",
       "4        1        4       5"
      ]
     },
     "execution_count": 39,
     "metadata": {},
     "output_type": "execute_result"
    }
   ],
   "source": [
    "original"
   ]
  },
  {
   "cell_type": "code",
   "execution_count": 40,
   "id": "b06e3de4",
   "metadata": {},
   "outputs": [
    {
     "data": {
      "text/html": [
       "<div>\n",
       "<style scoped>\n",
       "    .dataframe tbody tr th:only-of-type {\n",
       "        vertical-align: middle;\n",
       "    }\n",
       "\n",
       "    .dataframe tbody tr th {\n",
       "        vertical-align: top;\n",
       "    }\n",
       "\n",
       "    .dataframe thead th {\n",
       "        text-align: right;\n",
       "    }\n",
       "</style>\n",
       "<table border=\"1\" class=\"dataframe\">\n",
       "  <thead>\n",
       "    <tr style=\"text-align: right;\">\n",
       "      <th></th>\n",
       "      <th>user_id</th>\n",
       "      <th>item_id</th>\n",
       "      <th>prediction</th>\n",
       "    </tr>\n",
       "  </thead>\n",
       "  <tbody>\n",
       "    <tr>\n",
       "      <th>0</th>\n",
       "      <td>1</td>\n",
       "      <td>0</td>\n",
       "      <td>0.1</td>\n",
       "    </tr>\n",
       "    <tr>\n",
       "      <th>1</th>\n",
       "      <td>1</td>\n",
       "      <td>1</td>\n",
       "      <td>0.2</td>\n",
       "    </tr>\n",
       "    <tr>\n",
       "      <th>2</th>\n",
       "      <td>1</td>\n",
       "      <td>2</td>\n",
       "      <td>0.3</td>\n",
       "    </tr>\n",
       "    <tr>\n",
       "      <th>3</th>\n",
       "      <td>1</td>\n",
       "      <td>3</td>\n",
       "      <td>4.0</td>\n",
       "    </tr>\n",
       "    <tr>\n",
       "      <th>4</th>\n",
       "      <td>1</td>\n",
       "      <td>4</td>\n",
       "      <td>70.0</td>\n",
       "    </tr>\n",
       "  </tbody>\n",
       "</table>\n",
       "</div>"
      ],
      "text/plain": [
       "   user_id  item_id  prediction\n",
       "0        1        0         0.1\n",
       "1        1        1         0.2\n",
       "2        1        2         0.3\n",
       "3        1        3         4.0\n",
       "4        1        4        70.0"
      ]
     },
     "execution_count": 40,
     "metadata": {},
     "output_type": "execute_result"
    }
   ],
   "source": [
    "df"
   ]
  },
  {
   "cell_type": "code",
   "execution_count": 5,
   "id": "38df3574",
   "metadata": {},
   "outputs": [
    {
     "data": {
      "text/plain": [
       "0.493680191377376"
      ]
     },
     "execution_count": 5,
     "metadata": {},
     "output_type": "execute_result"
    }
   ],
   "source": [
    "scores = np.asarray([[.05, 1.1, 1., .5, .0]])\n",
    "ndcg_score(true_relevance, scores)\n",
    "\n"
   ]
  },
  {
   "cell_type": "code",
   "execution_count": 6,
   "id": "7fbb81bc",
   "metadata": {},
   "outputs": [
    {
     "data": {
      "text/plain": [
       "0.3520241100634488"
      ]
     },
     "execution_count": 6,
     "metadata": {},
     "output_type": "execute_result"
    }
   ],
   "source": [
    "# we can set k to truncate the sum; only top k answers contribute.\n",
    "ndcg_score(true_relevance, scores, k=4)\n"
   ]
  },
  {
   "cell_type": "code",
   "execution_count": 10,
   "id": "0959a0ce",
   "metadata": {},
   "outputs": [
    {
     "data": {
      "text/plain": [
       "0.75"
      ]
     },
     "execution_count": 10,
     "metadata": {},
     "output_type": "execute_result"
    }
   ],
   "source": [
    "# the normalization takes k into account so a perfect answer\n",
    "# would still get 1.0\n",
    "ndcg_score(true_relevance, true_relevance, k=4)\n",
    "\n",
    "# now we have some ties in our prediction\n",
    "scores = np.asarray([[1, 0, 0, 0, 1]])\n",
    "# by default ties are averaged, so here we get the average (normalized)\n",
    "# true relevance of our top predictions: (10 / 10 + 5 / 10) / 2 = .75\n",
    "ndcg_score(true_relevance, scores, k=1)\n",
    "\n"
   ]
  },
  {
   "cell_type": "code",
   "execution_count": 9,
   "id": "41fec8d0",
   "metadata": {},
   "outputs": [
    {
     "data": {
      "text/plain": [
       "1.0"
      ]
     },
     "execution_count": 9,
     "metadata": {},
     "output_type": "execute_result"
    }
   ],
   "source": [
    "# we can choose to ignore ties for faster results, but only\n",
    "# if we know there aren't ties in our scores, otherwise we get\n",
    "# wrong results:\n",
    "ndcg_score(true_relevance,\n",
    "          true_relevance, k=1, ignore_ties=True)"
   ]
  },
  {
   "cell_type": "code",
   "execution_count": 48,
   "id": "50eb2cb8",
   "metadata": {},
   "outputs": [
    {
     "data": {
      "text/plain": [
       "(1, 5)"
      ]
     },
     "execution_count": 48,
     "metadata": {},
     "output_type": "execute_result"
    }
   ],
   "source": [
    "true_relevance.shape"
   ]
  },
  {
   "cell_type": "code",
   "execution_count": 49,
   "id": "10c20c58",
   "metadata": {},
   "outputs": [
    {
     "data": {
      "text/plain": [
       "array([[10,  0,  0,  1,  5]])"
      ]
     },
     "execution_count": 49,
     "metadata": {},
     "output_type": "execute_result"
    }
   ],
   "source": [
    "true_relevance\n"
   ]
  },
  {
   "cell_type": "code",
   "execution_count": null,
   "id": "935cfb4b",
   "metadata": {},
   "outputs": [],
   "source": []
  }
 ],
 "metadata": {
  "hide_input": false,
  "kernelspec": {
   "display_name": "expedia_hotel_rec",
   "language": "python",
   "name": "expedia_hotel_rec"
  },
  "language_info": {
   "codemirror_mode": {
    "name": "ipython",
    "version": 3
   },
   "file_extension": ".py",
   "mimetype": "text/x-python",
   "name": "python",
   "nbconvert_exporter": "python",
   "pygments_lexer": "ipython3",
   "version": "3.8.13"
  },
  "toc": {
   "base_numbering": 1,
   "nav_menu": {},
   "number_sections": true,
   "sideBar": true,
   "skip_h1_title": false,
   "title_cell": "Table of Contents",
   "title_sidebar": "Contents",
   "toc_cell": false,
   "toc_position": {},
   "toc_section_display": true,
   "toc_window_display": true
  }
 },
 "nbformat": 4,
 "nbformat_minor": 5
}
