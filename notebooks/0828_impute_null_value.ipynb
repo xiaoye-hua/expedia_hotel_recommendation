{
 "cells": [
  {
   "cell_type": "markdown",
   "id": "11f06e19",
   "metadata": {},
   "source": [
    "# Packages "
   ]
  },
  {
   "cell_type": "code",
   "execution_count": 1,
   "id": "2b897b91",
   "metadata": {},
   "outputs": [],
   "source": [
    "import pandas as pd"
   ]
  },
  {
   "cell_type": "code",
   "execution_count": 2,
   "id": "5a8cea74",
   "metadata": {},
   "outputs": [],
   "source": [
    "eval_df = pd.read_pickle('../data/big_data/train.pkl')"
   ]
  },
  {
   "cell_type": "code",
   "execution_count": 3,
   "id": "34878ea1",
   "metadata": {},
   "outputs": [
    {
     "data": {
      "text/plain": [
       "(9917530, 54)"
      ]
     },
     "execution_count": 3,
     "metadata": {},
     "output_type": "execute_result"
    }
   ],
   "source": [
    "eval_df.shape"
   ]
  },
  {
   "cell_type": "code",
   "execution_count": 5,
   "id": "a5d66905",
   "metadata": {},
   "outputs": [
    {
     "data": {
      "text/plain": [
       "1     56353\n",
       "2     37723\n",
       "3     28567\n",
       "4     22259\n",
       "6     17921\n",
       "7     14542\n",
       "8     12197\n",
       "9     10168\n",
       "10     8871\n",
       "12     7678\n",
       "13     6643\n",
       "14     5874\n",
       "15     5371\n",
       "16     4603\n",
       "18     4187\n",
       "19     3755\n",
       "20     3408\n",
       "21     3092\n",
       "22     2643\n",
       "24     2576\n",
       "25     2293\n",
       "26     2157\n",
       "27     1988\n",
       "28     1780\n",
       "29     1553\n",
       "30     1435\n",
       "31     1373\n",
       "32     1186\n",
       "33     1118\n",
       "34     1024\n",
       "35      824\n",
       "36      626\n",
       "37      344\n",
       "5       213\n",
       "38      105\n",
       "11       72\n",
       "17       32\n",
       "23       24\n",
       "39       14\n",
       "40        1\n",
       "Name: position, dtype: int64"
      ]
     },
     "execution_count": 5,
     "metadata": {},
     "output_type": "execute_result"
    }
   ],
   "source": [
    "eval_df[eval_df['booking_bool']==True]['position'].value_counts()"
   ]
  },
  {
   "cell_type": "code",
   "execution_count": 4,
   "id": "85cad70c",
   "metadata": {},
   "outputs": [
    {
     "data": {
      "text/plain": [
       "1     398569\n",
       "3     398484\n",
       "2     398466\n",
       "6     398100\n",
       "7     389223\n",
       "4     386427\n",
       "8     380362\n",
       "9     372011\n",
       "12    356334\n",
       "13    349420\n",
       "10    346767\n",
       "14    342018\n",
       "15    334908\n",
       "18    321012\n",
       "19    314403\n",
       "16    309373\n",
       "20    307848\n",
       "21    301142\n",
       "24    287645\n",
       "25    280764\n",
       "22    276418\n",
       "26    274062\n",
       "27    267471\n",
       "28    260971\n",
       "29    254091\n",
       "30    246420\n",
       "31    237728\n",
       "32    223573\n",
       "33    211511\n",
       "34    198733\n",
       "35    175726\n",
       "36    134277\n",
       "37     73813\n",
       "17     22498\n",
       "11     22327\n",
       "23     21455\n",
       "38     21376\n",
       "5      18600\n",
       "39      3074\n",
       "40       130\n",
       "Name: position, dtype: int64"
      ]
     },
     "execution_count": 4,
     "metadata": {},
     "output_type": "execute_result"
    }
   ],
   "source": [
    "eval_df['position'].value_counts()"
   ]
  },
  {
   "cell_type": "code",
   "execution_count": null,
   "id": "617fda62",
   "metadata": {},
   "outputs": [],
   "source": []
  }
 ],
 "metadata": {
  "hide_input": false,
  "kernelspec": {
   "display_name": "Python3.8(expedia_project)",
   "language": "python",
   "name": "expedia_project"
  },
  "language_info": {
   "codemirror_mode": {
    "name": "ipython",
    "version": 3
   },
   "file_extension": ".py",
   "mimetype": "text/x-python",
   "name": "python",
   "nbconvert_exporter": "python",
   "pygments_lexer": "ipython3",
   "version": "3.8.13"
  },
  "toc": {
   "base_numbering": 1,
   "nav_menu": {},
   "number_sections": true,
   "sideBar": true,
   "skip_h1_title": false,
   "title_cell": "Table of Contents",
   "title_sidebar": "Contents",
   "toc_cell": false,
   "toc_position": {},
   "toc_section_display": true,
   "toc_window_display": false
  }
 },
 "nbformat": 4,
 "nbformat_minor": 5
}
