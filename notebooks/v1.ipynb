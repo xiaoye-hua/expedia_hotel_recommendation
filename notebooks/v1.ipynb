{
 "cells": [
  {
   "cell_type": "markdown",
   "id": "24d4cc94",
   "metadata": {},
   "source": [
    "# Module"
   ]
  },
  {
   "cell_type": "code",
   "execution_count": 1,
   "id": "203aeca0",
   "metadata": {},
   "outputs": [],
   "source": [
    "import pandas as pd\n",
    "import os\n",
    "import numpy as np\n",
    "\n",
    "import xgboost as xgb\n",
    "from xgboost import XGBRegressor\n",
    "from sklearn.model_selection import train_test_split"
   ]
  },
  {
   "cell_type": "markdown",
   "id": "b4718dea",
   "metadata": {},
   "source": [
    "# Config "
   ]
  },
  {
   "cell_type": "code",
   "execution_count": 2,
   "id": "2c7794b9",
   "metadata": {},
   "outputs": [],
   "source": [
    "debug = False\n",
    "# if debug:\n",
    "debug_num = 100\n",
    "# else:\n",
    "#     sample_num = -1\n",
    "data_dir = '../raw_data/'\n",
    "result_dir = '../result/'\n",
    "\n",
    "submission_cols =  ['SearchId','PropertyId']\n",
    "search_id = 'srch_id'\n",
    "prop_id = 'prop_id'\n",
    "regression_label = 'label'\n"
   ]
  },
  {
   "cell_type": "code",
   "execution_count": 3,
   "id": "468b6e25",
   "metadata": {},
   "outputs": [],
   "source": [
    "# train_df.columns"
   ]
  },
  {
   "cell_type": "markdown",
   "id": "22497476",
   "metadata": {},
   "source": [
    "# Data info "
   ]
  },
  {
   "cell_type": "code",
   "execution_count": 4,
   "id": "43118919",
   "metadata": {},
   "outputs": [],
   "source": [
    "if debug:\n",
    "    train_df = pd.read_csv(os.path.join(data_dir, 'train.csv'), nrows=debug_num)\n",
    "    test_df = pd.read_csv(os.path.join(data_dir, 'test.csv'), nrows=debug_num)\n",
    "else:\n",
    "    train_df = pd.read_csv(os.path.join(data_dir, 'train.csv'))\n",
    "    test_df = pd.read_csv(os.path.join(data_dir, 'test.csv'))"
   ]
  },
  {
   "cell_type": "code",
   "execution_count": 5,
   "id": "a658f9ff",
   "metadata": {},
   "outputs": [
    {
     "name": "stdout",
     "output_type": "stream",
     "text": [
      "train dimension: (9917530, 54)\n",
      "test dimension: (6622629, 50)\n",
      "Unique cols for train_df: {'click_bool', 'gross_bookings_usd', 'booking_bool', 'position'}\n",
      "Unique cols for test_df: set()\n"
     ]
    }
   ],
   "source": [
    "print(f\"train dimension: {train_df.shape}\")\n",
    "print(f\"test dimension: {test_df.shape}\")\n",
    "print(f\"Unique cols for train_df: {set(train_df.columns)-set(test_df.columns)}\")\n",
    "print(f\"Unique cols for test_df: {set(test_df.columns)-set(train_df.columns)}\")"
   ]
  },
  {
   "cell_type": "code",
   "execution_count": 6,
   "id": "9fd85307",
   "metadata": {},
   "outputs": [
    {
     "name": "stdout",
     "output_type": "stream",
     "text": [
      "<class 'pandas.core.frame.DataFrame'>\n",
      "RangeIndex: 9917530 entries, 0 to 9917529\n",
      "Data columns (total 54 columns):\n",
      " #   Column                       Dtype  \n",
      "---  ------                       -----  \n",
      " 0   srch_id                      int64  \n",
      " 1   date_time                    object \n",
      " 2   site_id                      int64  \n",
      " 3   visitor_location_country_id  int64  \n",
      " 4   visitor_hist_starrating      float64\n",
      " 5   visitor_hist_adr_usd         float64\n",
      " 6   prop_country_id              int64  \n",
      " 7   prop_id                      int64  \n",
      " 8   prop_starrating              int64  \n",
      " 9   prop_review_score            float64\n",
      " 10  prop_brand_bool              int64  \n",
      " 11  prop_location_score1         float64\n",
      " 12  prop_location_score2         float64\n",
      " 13  prop_log_historical_price    float64\n",
      " 14  position                     int64  \n",
      " 15  price_usd                    float64\n",
      " 16  promotion_flag               int64  \n",
      " 17  srch_destination_id          int64  \n",
      " 18  srch_length_of_stay          int64  \n",
      " 19  srch_booking_window          int64  \n",
      " 20  srch_adults_count            int64  \n",
      " 21  srch_children_count          int64  \n",
      " 22  srch_room_count              int64  \n",
      " 23  srch_saturday_night_bool     int64  \n",
      " 24  srch_query_affinity_score    float64\n",
      " 25  orig_destination_distance    float64\n",
      " 26  random_bool                  int64  \n",
      " 27  comp1_rate                   float64\n",
      " 28  comp1_inv                    float64\n",
      " 29  comp1_rate_percent_diff      float64\n",
      " 30  comp2_rate                   float64\n",
      " 31  comp2_inv                    float64\n",
      " 32  comp2_rate_percent_diff      float64\n",
      " 33  comp3_rate                   float64\n",
      " 34  comp3_inv                    float64\n",
      " 35  comp3_rate_percent_diff      float64\n",
      " 36  comp4_rate                   float64\n",
      " 37  comp4_inv                    float64\n",
      " 38  comp4_rate_percent_diff      float64\n",
      " 39  comp5_rate                   float64\n",
      " 40  comp5_inv                    float64\n",
      " 41  comp5_rate_percent_diff      float64\n",
      " 42  comp6_rate                   float64\n",
      " 43  comp6_inv                    float64\n",
      " 44  comp6_rate_percent_diff      float64\n",
      " 45  comp7_rate                   float64\n",
      " 46  comp7_inv                    float64\n",
      " 47  comp7_rate_percent_diff      float64\n",
      " 48  comp8_rate                   float64\n",
      " 49  comp8_inv                    float64\n",
      " 50  comp8_rate_percent_diff      float64\n",
      " 51  click_bool                   int64  \n",
      " 52  gross_bookings_usd           float64\n",
      " 53  booking_bool                 int64  \n",
      "dtypes: float64(34), int64(19), object(1)\n",
      "memory usage: 4.0+ GB\n"
     ]
    }
   ],
   "source": [
    "train_df.info()"
   ]
  },
  {
   "cell_type": "code",
   "execution_count": 7,
   "id": "d360c4a8",
   "metadata": {},
   "outputs": [
    {
     "data": {
      "text/html": [
       "<div>\n",
       "<style scoped>\n",
       "    .dataframe tbody tr th:only-of-type {\n",
       "        vertical-align: middle;\n",
       "    }\n",
       "\n",
       "    .dataframe tbody tr th {\n",
       "        vertical-align: top;\n",
       "    }\n",
       "\n",
       "    .dataframe thead th {\n",
       "        text-align: right;\n",
       "    }\n",
       "</style>\n",
       "<table border=\"1\" class=\"dataframe\">\n",
       "  <thead>\n",
       "    <tr style=\"text-align: right;\">\n",
       "      <th></th>\n",
       "      <th>srch_id</th>\n",
       "      <th>date_time</th>\n",
       "      <th>site_id</th>\n",
       "      <th>visitor_location_country_id</th>\n",
       "      <th>visitor_hist_starrating</th>\n",
       "      <th>visitor_hist_adr_usd</th>\n",
       "      <th>prop_country_id</th>\n",
       "      <th>prop_id</th>\n",
       "      <th>prop_starrating</th>\n",
       "      <th>prop_review_score</th>\n",
       "      <th>...</th>\n",
       "      <th>comp5_rate_percent_diff</th>\n",
       "      <th>comp6_rate</th>\n",
       "      <th>comp6_inv</th>\n",
       "      <th>comp6_rate_percent_diff</th>\n",
       "      <th>comp7_rate</th>\n",
       "      <th>comp7_inv</th>\n",
       "      <th>comp7_rate_percent_diff</th>\n",
       "      <th>comp8_rate</th>\n",
       "      <th>comp8_inv</th>\n",
       "      <th>comp8_rate_percent_diff</th>\n",
       "    </tr>\n",
       "  </thead>\n",
       "  <tbody>\n",
       "    <tr>\n",
       "      <th>0</th>\n",
       "      <td>2</td>\n",
       "      <td>2012-11-05 21:28:38</td>\n",
       "      <td>15</td>\n",
       "      <td>55</td>\n",
       "      <td>NaN</td>\n",
       "      <td>NaN</td>\n",
       "      <td>98</td>\n",
       "      <td>3105</td>\n",
       "      <td>3</td>\n",
       "      <td>2.0</td>\n",
       "      <td>...</td>\n",
       "      <td>NaN</td>\n",
       "      <td>NaN</td>\n",
       "      <td>NaN</td>\n",
       "      <td>NaN</td>\n",
       "      <td>NaN</td>\n",
       "      <td>NaN</td>\n",
       "      <td>NaN</td>\n",
       "      <td>NaN</td>\n",
       "      <td>NaN</td>\n",
       "      <td>NaN</td>\n",
       "    </tr>\n",
       "    <tr>\n",
       "      <th>1</th>\n",
       "      <td>2</td>\n",
       "      <td>2012-11-05 21:28:38</td>\n",
       "      <td>15</td>\n",
       "      <td>55</td>\n",
       "      <td>NaN</td>\n",
       "      <td>NaN</td>\n",
       "      <td>98</td>\n",
       "      <td>6399</td>\n",
       "      <td>3</td>\n",
       "      <td>0.0</td>\n",
       "      <td>...</td>\n",
       "      <td>NaN</td>\n",
       "      <td>NaN</td>\n",
       "      <td>NaN</td>\n",
       "      <td>NaN</td>\n",
       "      <td>NaN</td>\n",
       "      <td>NaN</td>\n",
       "      <td>NaN</td>\n",
       "      <td>NaN</td>\n",
       "      <td>NaN</td>\n",
       "      <td>NaN</td>\n",
       "    </tr>\n",
       "    <tr>\n",
       "      <th>2</th>\n",
       "      <td>2</td>\n",
       "      <td>2012-11-05 21:28:38</td>\n",
       "      <td>15</td>\n",
       "      <td>55</td>\n",
       "      <td>NaN</td>\n",
       "      <td>NaN</td>\n",
       "      <td>98</td>\n",
       "      <td>7374</td>\n",
       "      <td>4</td>\n",
       "      <td>3.5</td>\n",
       "      <td>...</td>\n",
       "      <td>NaN</td>\n",
       "      <td>NaN</td>\n",
       "      <td>NaN</td>\n",
       "      <td>NaN</td>\n",
       "      <td>NaN</td>\n",
       "      <td>NaN</td>\n",
       "      <td>NaN</td>\n",
       "      <td>NaN</td>\n",
       "      <td>NaN</td>\n",
       "      <td>NaN</td>\n",
       "    </tr>\n",
       "    <tr>\n",
       "      <th>3</th>\n",
       "      <td>2</td>\n",
       "      <td>2012-11-05 21:28:38</td>\n",
       "      <td>15</td>\n",
       "      <td>55</td>\n",
       "      <td>NaN</td>\n",
       "      <td>NaN</td>\n",
       "      <td>98</td>\n",
       "      <td>7771</td>\n",
       "      <td>3</td>\n",
       "      <td>4.5</td>\n",
       "      <td>...</td>\n",
       "      <td>NaN</td>\n",
       "      <td>NaN</td>\n",
       "      <td>NaN</td>\n",
       "      <td>NaN</td>\n",
       "      <td>NaN</td>\n",
       "      <td>NaN</td>\n",
       "      <td>NaN</td>\n",
       "      <td>NaN</td>\n",
       "      <td>NaN</td>\n",
       "      <td>NaN</td>\n",
       "    </tr>\n",
       "    <tr>\n",
       "      <th>4</th>\n",
       "      <td>2</td>\n",
       "      <td>2012-11-05 21:28:38</td>\n",
       "      <td>15</td>\n",
       "      <td>55</td>\n",
       "      <td>NaN</td>\n",
       "      <td>NaN</td>\n",
       "      <td>98</td>\n",
       "      <td>12938</td>\n",
       "      <td>3</td>\n",
       "      <td>0.0</td>\n",
       "      <td>...</td>\n",
       "      <td>NaN</td>\n",
       "      <td>NaN</td>\n",
       "      <td>NaN</td>\n",
       "      <td>NaN</td>\n",
       "      <td>NaN</td>\n",
       "      <td>NaN</td>\n",
       "      <td>NaN</td>\n",
       "      <td>NaN</td>\n",
       "      <td>NaN</td>\n",
       "      <td>NaN</td>\n",
       "    </tr>\n",
       "  </tbody>\n",
       "</table>\n",
       "<p>5 rows × 50 columns</p>\n",
       "</div>"
      ],
      "text/plain": [
       "   srch_id            date_time  site_id  visitor_location_country_id  \\\n",
       "0        2  2012-11-05 21:28:38       15                           55   \n",
       "1        2  2012-11-05 21:28:38       15                           55   \n",
       "2        2  2012-11-05 21:28:38       15                           55   \n",
       "3        2  2012-11-05 21:28:38       15                           55   \n",
       "4        2  2012-11-05 21:28:38       15                           55   \n",
       "\n",
       "   visitor_hist_starrating  visitor_hist_adr_usd  prop_country_id  prop_id  \\\n",
       "0                      NaN                   NaN               98     3105   \n",
       "1                      NaN                   NaN               98     6399   \n",
       "2                      NaN                   NaN               98     7374   \n",
       "3                      NaN                   NaN               98     7771   \n",
       "4                      NaN                   NaN               98    12938   \n",
       "\n",
       "   prop_starrating  prop_review_score  ...  comp5_rate_percent_diff  \\\n",
       "0                3                2.0  ...                      NaN   \n",
       "1                3                0.0  ...                      NaN   \n",
       "2                4                3.5  ...                      NaN   \n",
       "3                3                4.5  ...                      NaN   \n",
       "4                3                0.0  ...                      NaN   \n",
       "\n",
       "   comp6_rate  comp6_inv  comp6_rate_percent_diff  comp7_rate  comp7_inv  \\\n",
       "0         NaN        NaN                      NaN         NaN        NaN   \n",
       "1         NaN        NaN                      NaN         NaN        NaN   \n",
       "2         NaN        NaN                      NaN         NaN        NaN   \n",
       "3         NaN        NaN                      NaN         NaN        NaN   \n",
       "4         NaN        NaN                      NaN         NaN        NaN   \n",
       "\n",
       "   comp7_rate_percent_diff  comp8_rate  comp8_inv  comp8_rate_percent_diff  \n",
       "0                      NaN         NaN        NaN                      NaN  \n",
       "1                      NaN         NaN        NaN                      NaN  \n",
       "2                      NaN         NaN        NaN                      NaN  \n",
       "3                      NaN         NaN        NaN                      NaN  \n",
       "4                      NaN         NaN        NaN                      NaN  \n",
       "\n",
       "[5 rows x 50 columns]"
      ]
     },
     "execution_count": 7,
     "metadata": {},
     "output_type": "execute_result"
    }
   ],
   "source": [
    "test_df.head()"
   ]
  },
  {
   "cell_type": "markdown",
   "id": "dcdc7e20",
   "metadata": {},
   "source": [
    "# Functions"
   ]
  },
  {
   "cell_type": "code",
   "execution_count": 25,
   "id": "9856beb3",
   "metadata": {},
   "outputs": [],
   "source": [
    "def save_submission(rec_df, file_name: str):\n",
    "    result_df = test_df[['srch_id', 'prop_id']].rename(columns=dict(zip(['srch_id', 'prop_id'], submission_cols)))\n",
    "    result_df = result_df.merge(rec_df, how='left', on=submission_cols)\n",
    "    assert result_df.shape[0] == rec_df.shape[0]\n",
    "    result_df = result_df.sort_values(['SearchId', \"predicted\"], ascending=[True, False])\n",
    "    file_name = os.path.join(result_dir, file_name)\n",
    "    result_df[submission_cols].to_csv(file_name, index=False)\n",
    "    print(f\"shape: {result_df[submission_cols].shape}\")\n",
    "    print(result_df.head())\n",
    "    print(result_df[submission_cols].head())\n",
    "    "
   ]
  },
  {
   "cell_type": "markdown",
   "id": "ff7b70f0",
   "metadata": {},
   "source": [
    "# Random Recommenation "
   ]
  },
  {
   "cell_type": "markdown",
   "id": "53638ab1",
   "metadata": {},
   "source": [
    "## Train "
   ]
  },
  {
   "cell_type": "code",
   "execution_count": 7,
   "id": "c42ffc0d",
   "metadata": {},
   "outputs": [],
   "source": [
    "random_rec = test_df[['srch_id', 'prop_id']].rename(columns=dict(zip(['srch_id', 'prop_id'], submission_cols)))\n",
    "random_rec['predicted'] = np.random.rand(random_rec.shape[0])"
   ]
  },
  {
   "cell_type": "code",
   "execution_count": 8,
   "id": "dedc87f2",
   "metadata": {},
   "outputs": [
    {
     "name": "stdout",
     "output_type": "stream",
     "text": [
      "<class 'pandas.core.frame.DataFrame'>\n",
      "RangeIndex: 6622629 entries, 0 to 6622628\n",
      "Data columns (total 3 columns):\n",
      " #   Column      Dtype  \n",
      "---  ------      -----  \n",
      " 0   SearchId    int64  \n",
      " 1   PropertyId  int64  \n",
      " 2   predicted   float64\n",
      "dtypes: float64(1), int64(2)\n",
      "memory usage: 151.6 MB\n"
     ]
    }
   ],
   "source": [
    "random_rec.info()"
   ]
  },
  {
   "cell_type": "markdown",
   "id": "60219bc2",
   "metadata": {},
   "source": [
    "## Evaluation "
   ]
  },
  {
   "cell_type": "code",
   "execution_count": null,
   "id": "62d5658f",
   "metadata": {},
   "outputs": [],
   "source": []
  },
  {
   "cell_type": "markdown",
   "id": "67530101",
   "metadata": {},
   "source": [
    "# XGBRegressor"
   ]
  },
  {
   "cell_type": "markdown",
   "id": "e3be5b5c",
   "metadata": {},
   "source": [
    "## Config "
   ]
  },
  {
   "cell_type": "code",
   "execution_count": 9,
   "id": "68163824",
   "metadata": {},
   "outputs": [],
   "source": [
    "test_size = 0.2"
   ]
  },
  {
   "cell_type": "code",
   "execution_count": 10,
   "id": "b10bd4bf",
   "metadata": {},
   "outputs": [],
   "source": [
    "# train_df['click_bool']"
   ]
  },
  {
   "cell_type": "code",
   "execution_count": 11,
   "id": "fc8ed772",
   "metadata": {},
   "outputs": [
    {
     "data": {
      "text/plain": [
       "Index(['site_id', 'visitor_location_country_id', 'visitor_hist_starrating',\n",
       "       'visitor_hist_adr_usd', 'prop_country_id', 'prop_starrating',\n",
       "       'prop_review_score', 'prop_brand_bool', 'prop_location_score1',\n",
       "       'prop_location_score2', 'prop_log_historical_price', 'price_usd',\n",
       "       'promotion_flag', 'srch_destination_id', 'srch_length_of_stay',\n",
       "       'srch_booking_window', 'srch_adults_count', 'srch_children_count',\n",
       "       'srch_room_count', 'srch_saturday_night_bool',\n",
       "       'srch_query_affinity_score', 'orig_destination_distance', 'random_bool',\n",
       "       'comp1_rate', 'comp1_inv', 'comp1_rate_percent_diff', 'comp2_rate',\n",
       "       'comp2_inv', 'comp2_rate_percent_diff', 'comp3_rate', 'comp3_inv',\n",
       "       'comp3_rate_percent_diff', 'comp4_rate', 'comp4_inv',\n",
       "       'comp4_rate_percent_diff', 'comp5_rate', 'comp5_inv',\n",
       "       'comp5_rate_percent_diff', 'comp6_rate', 'comp6_inv',\n",
       "       'comp6_rate_percent_diff', 'comp7_rate', 'comp7_inv',\n",
       "       'comp7_rate_percent_diff', 'comp8_rate', 'comp8_inv',\n",
       "       'comp8_rate_percent_diff'],\n",
       "      dtype='object')"
      ]
     },
     "execution_count": 11,
     "metadata": {},
     "output_type": "execute_result"
    }
   ],
   "source": [
    "feature_col = test_df.columns\n",
    "\n",
    "feature_col = feature_col.drop(search_id)\n",
    "feature_col = feature_col.drop(prop_id)\n",
    "feature_col = feature_col.drop('date_time')\n",
    "feature_col"
   ]
  },
  {
   "cell_type": "code",
   "execution_count": 12,
   "id": "e5843720",
   "metadata": {},
   "outputs": [],
   "source": [
    "def feature_engineering(df):\n",
    "    return df\n",
    "\n",
    "def get_label(row):\n",
    "    if row['booking_bool'] == 1:\n",
    "        return 5\n",
    "    elif row['click_bool'] == 1:\n",
    "        return 2\n",
    "    else:\n",
    "        return 0"
   ]
  },
  {
   "cell_type": "code",
   "execution_count": 13,
   "id": "17eca607",
   "metadata": {},
   "outputs": [
    {
     "data": {
      "text/plain": [
       "Index(['srch_id', 'date_time', 'site_id', 'visitor_location_country_id',\n",
       "       'visitor_hist_starrating', 'visitor_hist_adr_usd', 'prop_country_id',\n",
       "       'prop_id', 'prop_starrating', 'prop_review_score', 'prop_brand_bool',\n",
       "       'prop_location_score1', 'prop_location_score2',\n",
       "       'prop_log_historical_price', 'position', 'price_usd', 'promotion_flag',\n",
       "       'srch_destination_id', 'srch_length_of_stay', 'srch_booking_window',\n",
       "       'srch_adults_count', 'srch_children_count', 'srch_room_count',\n",
       "       'srch_saturday_night_bool', 'srch_query_affinity_score',\n",
       "       'orig_destination_distance', 'random_bool', 'comp1_rate', 'comp1_inv',\n",
       "       'comp1_rate_percent_diff', 'comp2_rate', 'comp2_inv',\n",
       "       'comp2_rate_percent_diff', 'comp3_rate', 'comp3_inv',\n",
       "       'comp3_rate_percent_diff', 'comp4_rate', 'comp4_inv',\n",
       "       'comp4_rate_percent_diff', 'comp5_rate', 'comp5_inv',\n",
       "       'comp5_rate_percent_diff', 'comp6_rate', 'comp6_inv',\n",
       "       'comp6_rate_percent_diff', 'comp7_rate', 'comp7_inv',\n",
       "       'comp7_rate_percent_diff', 'comp8_rate', 'comp8_inv',\n",
       "       'comp8_rate_percent_diff', 'click_bool', 'gross_bookings_usd',\n",
       "       'booking_bool'],\n",
       "      dtype='object')"
      ]
     },
     "execution_count": 13,
     "metadata": {},
     "output_type": "execute_result"
    }
   ],
   "source": [
    "train_df.columns\n"
   ]
  },
  {
   "cell_type": "code",
   "execution_count": 14,
   "id": "f144438c",
   "metadata": {},
   "outputs": [],
   "source": [
    "train_df_y = train_df.apply(lambda row: get_label(row), axis=1)"
   ]
  },
  {
   "cell_type": "code",
   "execution_count": 15,
   "id": "ead07ec2",
   "metadata": {},
   "outputs": [],
   "source": [
    "cleaned_train_df = feature_engineering(train_df)\n",
    "cleaned_test_df = feature_engineering(test_df)"
   ]
  },
  {
   "cell_type": "code",
   "execution_count": 16,
   "id": "28e88dcb",
   "metadata": {},
   "outputs": [
    {
     "name": "stdout",
     "output_type": "stream",
     "text": [
      "<class 'pandas.core.frame.DataFrame'>\n",
      "RangeIndex: 9917530 entries, 0 to 9917529\n",
      "Data columns (total 47 columns):\n",
      " #   Column                       Dtype  \n",
      "---  ------                       -----  \n",
      " 0   site_id                      int64  \n",
      " 1   visitor_location_country_id  int64  \n",
      " 2   visitor_hist_starrating      float64\n",
      " 3   visitor_hist_adr_usd         float64\n",
      " 4   prop_country_id              int64  \n",
      " 5   prop_starrating              int64  \n",
      " 6   prop_review_score            float64\n",
      " 7   prop_brand_bool              int64  \n",
      " 8   prop_location_score1         float64\n",
      " 9   prop_location_score2         float64\n",
      " 10  prop_log_historical_price    float64\n",
      " 11  price_usd                    float64\n",
      " 12  promotion_flag               int64  \n",
      " 13  srch_destination_id          int64  \n",
      " 14  srch_length_of_stay          int64  \n",
      " 15  srch_booking_window          int64  \n",
      " 16  srch_adults_count            int64  \n",
      " 17  srch_children_count          int64  \n",
      " 18  srch_room_count              int64  \n",
      " 19  srch_saturday_night_bool     int64  \n",
      " 20  srch_query_affinity_score    float64\n",
      " 21  orig_destination_distance    float64\n",
      " 22  random_bool                  int64  \n",
      " 23  comp1_rate                   float64\n",
      " 24  comp1_inv                    float64\n",
      " 25  comp1_rate_percent_diff      float64\n",
      " 26  comp2_rate                   float64\n",
      " 27  comp2_inv                    float64\n",
      " 28  comp2_rate_percent_diff      float64\n",
      " 29  comp3_rate                   float64\n",
      " 30  comp3_inv                    float64\n",
      " 31  comp3_rate_percent_diff      float64\n",
      " 32  comp4_rate                   float64\n",
      " 33  comp4_inv                    float64\n",
      " 34  comp4_rate_percent_diff      float64\n",
      " 35  comp5_rate                   float64\n",
      " 36  comp5_inv                    float64\n",
      " 37  comp5_rate_percent_diff      float64\n",
      " 38  comp6_rate                   float64\n",
      " 39  comp6_inv                    float64\n",
      " 40  comp6_rate_percent_diff      float64\n",
      " 41  comp7_rate                   float64\n",
      " 42  comp7_inv                    float64\n",
      " 43  comp7_rate_percent_diff      float64\n",
      " 44  comp8_rate                   float64\n",
      " 45  comp8_inv                    float64\n",
      " 46  comp8_rate_percent_diff      float64\n",
      "dtypes: float64(33), int64(14)\n",
      "memory usage: 3.5 GB\n"
     ]
    }
   ],
   "source": [
    "cleaned_train_df[feature_col].info()"
   ]
  },
  {
   "cell_type": "code",
   "execution_count": 17,
   "id": "9a233916",
   "metadata": {},
   "outputs": [],
   "source": [
    "train_X, eval_X, train_y, eval_y = train_test_split(cleaned_train_df[feature_col], train_df_y)"
   ]
  },
  {
   "cell_type": "code",
   "execution_count": 18,
   "id": "c0eacf2b",
   "metadata": {},
   "outputs": [],
   "source": [
    "assert train_X.shape[1] == eval_X.shape[1]"
   ]
  },
  {
   "cell_type": "code",
   "execution_count": 20,
   "id": "faa51d09",
   "metadata": {},
   "outputs": [],
   "source": [
    "model_params = {\n",
    "    'learning_rate':0.05\n",
    "    , 'n_estimators': 1000\n",
    "#     'learning_rate':0.01\n",
    "#     , 'n_estimators': 1000\n",
    "# , 'max_depth': 8\n",
    "#     , 'min_child_weight': 0.5\n",
    "#     , 'gamma':1\n",
    "#     , 'colsample_bytree': 0.9\n",
    "#     , 'subsample': 0.9\n",
    "#     , 'reg_alpha': 1\n",
    "\n",
    "}"
   ]
  },
  {
   "cell_type": "code",
   "execution_count": 27,
   "id": "2a75fee9",
   "metadata": {},
   "outputs": [],
   "source": [
    "model = XGBRegressor(**model_params)"
   ]
  },
  {
   "cell_type": "code",
   "execution_count": 29,
   "id": "21a85c87",
   "metadata": {},
   "outputs": [
    {
     "data": {
      "text/plain": [
       "XGBRegressor(base_score=None, booster=None, colsample_bylevel=None,\n",
       "             colsample_bynode=None, colsample_bytree=None, gamma=None,\n",
       "             gpu_id=None, importance_type='gain', interaction_constraints=None,\n",
       "             learning_rate=0.05, max_delta_step=None, max_depth=None,\n",
       "             min_child_weight=None, missing=nan, monotone_constraints=None,\n",
       "             n_estimators=1000, n_jobs=None, num_parallel_tree=None,\n",
       "             random_state=None, reg_alpha=None, reg_lambda=None,\n",
       "             scale_pos_weight=None, subsample=None, tree_method=None,\n",
       "             validate_parameters=None, verbosity=None)"
      ]
     },
     "execution_count": 29,
     "metadata": {},
     "output_type": "execute_result"
    }
   ],
   "source": [
    "model"
   ]
  },
  {
   "cell_type": "code",
   "execution_count": null,
   "id": "79994ccf",
   "metadata": {},
   "outputs": [
    {
     "name": "stdout",
     "output_type": "stream",
     "text": [
      "[0]\tvalidation_0-mae:0.62056\tvalidation_1-mae:0.61228\n",
      "[1]\tvalidation_0-mae:0.59756\tvalidation_1-mae:0.59925\n",
      "[2]\tvalidation_0-mae:0.58276\tvalidation_1-mae:0.58393\n",
      "[3]\tvalidation_0-mae:0.57361\tvalidation_1-mae:0.57210\n",
      "[4]\tvalidation_0-mae:0.56173\tvalidation_1-mae:0.55943\n",
      "[5]\tvalidation_0-mae:0.54533\tvalidation_1-mae:0.54754\n",
      "[6]\tvalidation_0-mae:0.53595\tvalidation_1-mae:0.53616\n",
      "[7]\tvalidation_0-mae:0.52736\tvalidation_1-mae:0.52563\n",
      "[8]\tvalidation_0-mae:0.51627\tvalidation_1-mae:0.51538\n",
      "[9]\tvalidation_0-mae:0.50399\tvalidation_1-mae:0.50610\n",
      "[10]\tvalidation_0-mae:0.49537\tvalidation_1-mae:0.49650\n",
      "[11]\tvalidation_0-mae:0.48889\tvalidation_1-mae:0.48791\n",
      "[12]\tvalidation_0-mae:0.48171\tvalidation_1-mae:0.47961\n",
      "[13]\tvalidation_0-mae:0.47313\tvalidation_1-mae:0.47176\n",
      "[14]\tvalidation_0-mae:0.46381\tvalidation_1-mae:0.46435\n",
      "[15]\tvalidation_0-mae:0.45601\tvalidation_1-mae:0.45737\n",
      "[16]\tvalidation_0-mae:0.44936\tvalidation_1-mae:0.45044\n",
      "[17]\tvalidation_0-mae:0.44409\tvalidation_1-mae:0.44401\n",
      "[18]\tvalidation_0-mae:0.43913\tvalidation_1-mae:0.43801\n",
      "[19]\tvalidation_0-mae:0.43334\tvalidation_1-mae:0.43211\n",
      "[20]\tvalidation_0-mae:0.42765\tvalidation_1-mae:0.42661\n",
      "[21]\tvalidation_0-mae:0.42156\tvalidation_1-mae:0.42162\n"
     ]
    }
   ],
   "source": [
    "model.fit(X=train_X, y=train_y, verbose=True, eval_metric=['mae']\n",
    "                         , eval_set=[[train_X, train_y], [eval_X, eval_y]], early_stopping_rounds=20)"
   ]
  },
  {
   "cell_type": "code",
   "execution_count": null,
   "id": "85a2da8f",
   "metadata": {},
   "outputs": [],
   "source": [
    "xgb_rec = test_df[['srch_id', 'prop_id']].rename(columns=dict(zip(['srch_id', 'prop_id'], submission_cols)))\n",
    "xgb_rec['predicted'] = model.predict(cleaned_test_df[feature_col])"
   ]
  },
  {
   "cell_type": "code",
   "execution_count": null,
   "id": "b4f973c1",
   "metadata": {},
   "outputs": [],
   "source": [
    "xgb_rec.head()"
   ]
  },
  {
   "cell_type": "markdown",
   "id": "d45860f9",
   "metadata": {},
   "source": [
    "## Save "
   ]
  },
  {
   "cell_type": "code",
   "execution_count": null,
   "id": "01cb4373",
   "metadata": {},
   "outputs": [],
   "source": [
    "save_submission(rec_df=xgb_rec, file_name='0429_xgb.csv')"
   ]
  },
  {
   "cell_type": "code",
   "execution_count": null,
   "id": "cb49d72e",
   "metadata": {},
   "outputs": [],
   "source": []
  }
 ],
 "metadata": {
  "hide_input": false,
  "kernelspec": {
   "display_name": "Python 3",
   "language": "python",
   "name": "python3"
  },
  "language_info": {
   "codemirror_mode": {
    "name": "ipython",
    "version": 3
   },
   "file_extension": ".py",
   "mimetype": "text/x-python",
   "name": "python",
   "nbconvert_exporter": "python",
   "pygments_lexer": "ipython3",
   "version": "3.9.5"
  },
  "toc": {
   "base_numbering": 1,
   "nav_menu": {},
   "number_sections": true,
   "sideBar": true,
   "skip_h1_title": false,
   "title_cell": "Table of Contents",
   "title_sidebar": "Contents",
   "toc_cell": false,
   "toc_position": {
    "height": "calc(100% - 180px)",
    "left": "10px",
    "top": "150px",
    "width": "288px"
   },
   "toc_section_display": true,
   "toc_window_display": true
  }
 },
 "nbformat": 4,
 "nbformat_minor": 5
}
